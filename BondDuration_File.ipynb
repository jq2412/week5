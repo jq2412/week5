{
  "nbformat": 4,
  "nbformat_minor": 0,
  "metadata": {
    "colab": {
      "provenance": [],
      "authorship_tag": "ABX9TyNRXNoOXLNUAQxsjyfSRnU7",
      "include_colab_link": true
    },
    "kernelspec": {
      "name": "python3",
      "display_name": "Python 3"
    },
    "language_info": {
      "name": "python"
    }
  },
  "cells": [
    {
      "cell_type": "markdown",
      "metadata": {
        "id": "view-in-github",
        "colab_type": "text"
      },
      "source": [
        "<a href=\"https://colab.research.google.com/github/jq2412/week5/blob/main/BondDuration_File.ipynb\" target=\"_parent\"><img src=\"https://colab.research.google.com/assets/colab-badge.svg\" alt=\"Open In Colab\"/></a>"
      ]
    },
    {
      "cell_type": "code",
      "execution_count": 1,
      "metadata": {
        "colab": {
          "base_uri": "https://localhost:8080/"
        },
        "id": "TXcEy03jGaao",
        "outputId": "02054cd2-bd4c-4d5d-896d-46eb1eeaacce"
      },
      "outputs": [
        {
          "output_type": "execute_result",
          "data": {
            "text/plain": [
              "8.5087003673642"
            ]
          },
          "metadata": {},
          "execution_count": 1
        }
      ],
      "source": [
        "import numpy as np\n",
        "\n",
        "def getBondDuration(y, face, couponRate, m, ppy=1):\n",
        "  cf = couponRate * face / ppy\n",
        "  totalPVCF = 0\n",
        "  totalWeightedPVCF = 0\n",
        "\n",
        "  years = np.arange(1, m + 1)\n",
        "  df = 1/(1+y/ppy)\n",
        "  dfs = df ** years\n",
        "\n",
        "  pvcf = np.zeros_like(years)\n",
        "  pvcf[:-1] = cf * dfs[:-1]\n",
        "  pvcf[-1] = (cf + face) * dfs[-1]\n",
        "\n",
        "  totalPVCF = np.sum(pvcf)\n",
        "  totalWeightedPVCF = np.sum(years * pvcf)\n",
        "\n",
        "  bondDuration = totalWeightedPVCF / totalPVCF\n",
        "  return(bondDuration)\n",
        "\n",
        "# Test Value\n",
        "\n",
        "y = 0.03\n",
        "face = 2000000\n",
        "couponRate = 0.04\n",
        "m = 10\n",
        "ppy = 1\n",
        "getBondDuration(y , face , couponRate , m , ppy)"
      ]
    }
  ]
}