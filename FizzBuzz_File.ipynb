{
  "nbformat": 4,
  "nbformat_minor": 0,
  "metadata": {
    "colab": {
      "provenance": [],
      "authorship_tag": "ABX9TyN+9IoSrPVmpTpmTvqEfRk5",
      "include_colab_link": true
    },
    "kernelspec": {
      "name": "python3",
      "display_name": "Python 3"
    },
    "language_info": {
      "name": "python"
    }
  },
  "cells": [
    {
      "cell_type": "markdown",
      "metadata": {
        "id": "view-in-github",
        "colab_type": "text"
      },
      "source": [
        "<a href=\"https://colab.research.google.com/github/jq2412/week5/blob/main/FizzBuzz_File.ipynb\" target=\"_parent\"><img src=\"https://colab.research.google.com/assets/colab-badge.svg\" alt=\"Open In Colab\"/></a>"
      ]
    },
    {
      "cell_type": "code",
      "execution_count": 1,
      "metadata": {
        "id": "R3UOo8fWGrJ-",
        "outputId": "8c04287a-88dd-4fac-b1b8-fe4f64e29320",
        "colab": {
          "base_uri": "https://localhost:8080/"
        }
      },
      "outputs": [
        {
          "output_type": "stream",
          "name": "stdout",
          "text": [
            "['61' '62' 'Fizz' '64' 'Buzz' 'Fizz' '67' '68' 'Fizz' 'Buzz' '71' 'Fizz'\n",
            " '73' '74' 'FizzBuzz']\n"
          ]
        }
      ],
      "source": [
        "import numpy as np\n",
        "\n",
        "def FizzBuzz(start, finish):\n",
        "    FizzBuzz = np.arange(start, finish + 1)\n",
        "\n",
        "    mod3 = FizzBuzz % 3 == 0\n",
        "    mod5 = FizzBuzz % 5 == 0\n",
        "\n",
        "    result = FizzBuzz.astype(str)\n",
        "\n",
        "    result = np.where(mod3 & mod5, \"FizzBuzz\", result)\n",
        "    result = np.where(mod3 & ~mod5, \"Fizz\", result)\n",
        "    result = np.where(mod5 & ~mod3, \"Buzz\", result)\n",
        "\n",
        "    return result\n",
        "\n",
        "print(FizzBuzz(61, 75))"
      ]
    }
  ]
}