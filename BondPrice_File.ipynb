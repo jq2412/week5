{
  "nbformat": 4,
  "nbformat_minor": 0,
  "metadata": {
    "colab": {
      "provenance": [],
      "authorship_tag": "ABX9TyN8asqF5+2VqUUny3tXYv+3",
      "include_colab_link": true
    },
    "kernelspec": {
      "name": "python3",
      "display_name": "Python 3"
    },
    "language_info": {
      "name": "python"
    }
  },
  "cells": [
    {
      "cell_type": "markdown",
      "metadata": {
        "id": "view-in-github",
        "colab_type": "text"
      },
      "source": [
        "<a href=\"https://colab.research.google.com/github/jq2412/week5/blob/main/BondPrice_File.ipynb\" target=\"_parent\"><img src=\"https://colab.research.google.com/assets/colab-badge.svg\" alt=\"Open In Colab\"/></a>"
      ]
    },
    {
      "cell_type": "code",
      "execution_count": 1,
      "metadata": {
        "colab": {
          "base_uri": "https://localhost:8080/"
        },
        "id": "SN0trCT3F10q",
        "outputId": "cd50810d-3a26-4eaf-c329-240cc9627348"
      },
      "outputs": [
        {
          "output_type": "stream",
          "name": "stdout",
          "text": [
            "2171686.3878508243\n"
          ]
        }
      ],
      "source": [
        "import numpy as np\n",
        "\n",
        "def getBondPrice(y, face, couponRate, m, ppy=1):\n",
        " years = np.arange(1, m * ppy + 1)\n",
        " df = 1 / (1 + y / ppy)\n",
        " dfs = df ** years\n",
        " cf = dfs * couponRate / ppy * face\n",
        " price = sum(cf) + dfs[-1] * face\n",
        "\n",
        " return (price)\n",
        "\n",
        "# Test values\n",
        "y = 0.03\n",
        "face = 2000000\n",
        "couponRate = 0.04\n",
        "m = 10\n",
        "ppy = 2\n",
        "\n",
        "price=getBondPrice(y, face, couponRate, m, ppy)\n",
        "print(price)"
      ]
    }
  ]
}